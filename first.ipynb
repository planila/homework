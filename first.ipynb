{
 "cells": [
  {
   "cell_type": "markdown",
   "id": "95a4c568",
   "metadata": {},
   "source": [
    "# Python"
   ]
  },
  {
   "cell_type": "code",
   "execution_count": null,
   "id": "cba6e8c0",
   "metadata": {},
   "outputs": [],
   "source": [
    "1.Mutable/Immutable Python Data Types\n",
    "# -Write a function that takes a list and a tuple, attempts to modify both, and returns the results\n",
    " (подсказки: \n",
    "\t- кортежи - неизмеяемы, листы - изменяемы\n",
    "\t- вспомни конструкцию try/except\n",
    "#########################################################################################################\n",
    "#Ниже пример тестов:\t\t\t\t\t\t\t\t\t\t\t\t\t\t\t\t\t\t\t\t\t#\n",
    "#-> modify_data_types - название функции, ты можешь использовать любое\t\t\t\t\t\t\t\t\t#\n",
    "#-> [1, 2, 3], (4, 5, 6) -> 2 аргумента, которые принимает функция\t\t\t\t\t\t\t\t\t\t#\n",
    "#-> после '==' ([1, 2, 3, 100], (4, 5, 6)) результат, которые ожидается после выполнения функции \t\t#\n",
    "#########################################################################################################\n",
    "assert modify_data_types([1, 2, 3], (4, 5, 6)) == ([1, 2, 3, 100], (4, 5, 6))\n",
    "assert modify_data_types([], (0,)) == ([100], (0,))"
   ]
  },
  {
   "cell_type": "code",
   "execution_count": null,
   "id": "20192fc6",
   "metadata": {},
   "outputs": [],
   "source": [
    "try "
   ]
  },
  {
   "cell_type": "code",
   "execution_count": null,
   "id": "e3c0d3b1",
   "metadata": {},
   "outputs": [],
   "source": [
    "-------------------------------2. second task Loops (For/While)----------------------------------\n",
    "- Write a function that prints only odds(нечетные) numbers from 1 to n inclusive. (n - user's input in console)\n",
    "(\n",
    "подсказки -> вспомни про функцию input() для прочтения данных с при вводе\n",
    ")\n",
    "\n",
    "assert loop_for(10) == [1, 3, 5, 7, 9]\n",
    "assert loop_while(15) == [1, 3, 5, 7, 9, 11, 13, 15]"
   ]
  },
  {
   "cell_type": "code",
   "execution_count": 16,
   "id": "667df0d8",
   "metadata": {},
   "outputs": [
    {
     "data": {
      "text/plain": [
       "[1, 3, 5, 7, 9, 11, 13, 15]"
      ]
     },
     "execution_count": 16,
     "metadata": {},
     "output_type": "execute_result"
    }
   ],
   "source": [
    "\n",
    "def odds_numbers(a):\n",
    "    \n",
    "    empty = []\n",
    "\n",
    "    for i in range(1, a + 1):\n",
    "        if i % 2 == 0:\n",
    "            continue\n",
    "        else:\n",
    "            empty.append(i)\n",
    "    \n",
    "    return empty \n",
    "\n",
    "# odds_numbers(10)  \n",
    "odds_numbers(15)\n",
    "    "
   ]
  },
  {
   "cell_type": "code",
   "execution_count": null,
   "id": "3d7b05aa",
   "metadata": {},
   "outputs": [],
   "source": [
    "-------------------------------3.with Statement (File Handling)----------------------------------\n",
    " Write a function that adds the string \"hello world\" 10 times to a new file, each on a new line.\n",
    " function params -> file_name\n",
    " ( hints/подсказки \n",
    " you can use construction open()/close or with()\n",
    " начало функции может быть таким def write_hello_world(file_path)"
   ]
  },
  {
   "cell_type": "code",
   "execution_count": 41,
   "id": "b8d8628f",
   "metadata": {},
   "outputs": [],
   "source": [
    "def write_hello_world(b :str):\n",
    "    \n",
    "    text_file = open(\"new_file.txt\", \"w\")\n",
    "    a = (b  + \"\\n\") * 10\n",
    "    text_file.write(a)\n",
    "    \n",
    "write_hello_world('НАША ЗАДАЧА ЭТО РАЗНЫМИ СХЕМАМИ ОБМАНУТЬ')"
   ]
  },
  {
   "cell_type": "code",
   "execution_count": null,
   "id": "f32c030b",
   "metadata": {},
   "outputs": [],
   "source": [
    "-------------------------------4.Recursion----------------------------------\n",
    "1. Write a recursive function to calculate the factorial of a number \n",
    "2. Write a recursive function to calculate Fibonacci Sequence\n",
    "(Not mandatory!also you can try to do it using loops>Not mandatory!<)\n",
    "\n",
    "1. {\n",
    "\tassert factorial(0) == 1\n",
    "\tassert factorial(5) == 120\n",
    "}\n",
    "2. {\n",
    "\tassert fibonacci_loop(1) == [0]\n",
    "\tassert fibonacci_loop(5) == [0, 1, 1, 2, 3]\n",
    "\tassert fibonacci_loop(10) == [0, 1, 1, 2, 3, 5, 8, 13, 21, 34]"
   ]
  },
  {
   "cell_type": "code",
   "execution_count": 2,
   "id": "924daa56",
   "metadata": {},
   "outputs": [
    {
     "data": {
      "text/plain": [
       "120"
      ]
     },
     "execution_count": 2,
     "metadata": {},
     "output_type": "execute_result"
    }
   ],
   "source": [
    "1. \n",
    "\n",
    "# def get_factorial(n):\n",
    "#     if n == 1:\n",
    "#         return 1\n",
    "#     else:\n",
    "#         return n * get_factorial(n - 1)\n",
    "    \n",
    "# get_factorial(5)"
   ]
  },
  {
   "cell_type": "code",
   "execution_count": 1,
   "id": "256540fe",
   "metadata": {},
   "outputs": [
    {
     "data": {
      "text/plain": [
       "8"
      ]
     },
     "execution_count": 1,
     "metadata": {},
     "output_type": "execute_result"
    }
   ],
   "source": [
    "# 2. \n",
    "\n",
    "# def get_fib(n):\n",
    "#     if n < 2:\n",
    "#         return n \n",
    "#     return get_fib(n - 1) + get_fib(n - 2)\n",
    "\n",
    "# get_fib(6)"
   ]
  },
  {
   "cell_type": "code",
   "execution_count": null,
   "id": "e99aa9f5",
   "metadata": {},
   "outputs": [],
   "source": [
    "-------------------------------5.Decorators----------------------------------\n",
    "1. Write a decorator that times how long a function takes to execute.\n",
    "2. Write a decorator that prints something before and after the function runs.\n",
    "3. Write a decorator that multiplies a function's return value by 10.\n",
    "\n",
    "example of 3. task {\n",
    "\t\t@multiply_by_10_decorator # try to remeber how to do it / you need only to create this  @multiply_by_10_decorator\n",
    "\t\tdef sample_func(x):\n",
    "\t\t\treturn x\n",
    "\n",
    "\t\t# Test case\n",
    "\t\tassert sample_func(5) == 50\n",
    "\t\tassert sample_func(10) == 100\n",
    "\t\tassert sample_func(20) == 200\n",
    "}"
   ]
  },
  {
   "cell_type": "code",
   "execution_count": null,
   "id": "54983e2e",
   "metadata": {},
   "outputs": [],
   "source": [
    "1.\n",
    "\n",
    "import time\n",
    "\n",
    "def decoration(func):\n",
    "    def wrapper():\n",
    "        start = time.time()\n",
    "        func()\n",
    "        end = time.time()\n",
    "        final = end - start\n",
    "        print(final)\n",
    "    return wrapper\n",
    "\n",
    "@decoration\n",
    "def timix():\n",
    "    return print(5 ** 123456)\n",
    "    \n",
    "timix()"
   ]
  },
  {
   "cell_type": "code",
   "execution_count": null,
   "id": "4bcb78bb",
   "metadata": {},
   "outputs": [],
   "source": [
    "2.\n",
    "\n",
    "def my_decorator(func):\n",
    "    def wrapper():\n",
    "        print('ГАУ - это гей')\n",
    "        func()\n",
    "        print('аузе биг!')\n",
    "    return wrapper\n",
    "\n",
    "@my_decorator\n",
    "def print_hello():\n",
    "    print('Hello!')\n",
    "    \n",
    "print_hello()"
   ]
  },
  {
   "cell_type": "code",
   "execution_count": null,
   "id": "24b15378",
   "metadata": {},
   "outputs": [],
   "source": [
    "3.\n",
    "\n",
    "def decor(func):\n",
    "    def wrapper(a, b):\n",
    "        a = func(a, b)\n",
    "        a *=  10\n",
    "        return a\n",
    "    return wrapper\n",
    "\n",
    "@decor\n",
    "def multiplay(a, b):\n",
    "    return a * b\n",
    "\n",
    "multiplay(6, 7)"
   ]
  },
  {
   "cell_type": "code",
   "execution_count": null,
   "id": "e43fa1fb",
   "metadata": {},
   "outputs": [],
   "source": [
    "-------------------------------6. Working with APIs (HTTP Requests)----------------------------------\n",
    "1.Write a function that fetches data from url below and returns it as JSON/Dictionary\n",
    "url=https://jsonplaceholder.typicode.com/todos/1\n",
    "\n",
    "tests: assert isinstance(data, dict)\n",
    "\t   assert data['id'] == 1\n",
    "\n",
    "2. (3 steps task )\n",
    "\t   -Write a function that fetches data from url below and returns it as JSON/dict.\n",
    "       -Create a Pandas DF with 4 columns based on JSON/dict. \n",
    "\t   -save DF as a CVS file using gzip compression, ignoring indexes, filename 'danila_api_test_{current_date}.csv.gz'\n",
    "   \n",
    "url=https://jsonplaceholder.typicode.com/todos/"
   ]
  },
  {
   "cell_type": "code",
   "execution_count": 9,
   "id": "b623a716",
   "metadata": {},
   "outputs": [
    {
     "data": {
      "text/html": [
       "<div>\n",
       "<style scoped>\n",
       "    .dataframe tbody tr th:only-of-type {\n",
       "        vertical-align: middle;\n",
       "    }\n",
       "\n",
       "    .dataframe tbody tr th {\n",
       "        vertical-align: top;\n",
       "    }\n",
       "\n",
       "    .dataframe thead th {\n",
       "        text-align: right;\n",
       "    }\n",
       "</style>\n",
       "<table border=\"1\" class=\"dataframe\">\n",
       "  <thead>\n",
       "    <tr style=\"text-align: right;\">\n",
       "      <th></th>\n",
       "      <th>userId</th>\n",
       "      <th>id</th>\n",
       "      <th>title</th>\n",
       "      <th>completed</th>\n",
       "    </tr>\n",
       "  </thead>\n",
       "  <tbody>\n",
       "    <tr>\n",
       "      <th>0</th>\n",
       "      <td>1</td>\n",
       "      <td>1</td>\n",
       "      <td>delectus aut autem</td>\n",
       "      <td>False</td>\n",
       "    </tr>\n",
       "  </tbody>\n",
       "</table>\n",
       "</div>"
      ],
      "text/plain": [
       "  userId id               title completed\n",
       "0      1  1  delectus aut autem     False"
      ]
     },
     "execution_count": 9,
     "metadata": {},
     "output_type": "execute_result"
    }
   ],
   "source": [
    "import requests\n",
    "import json\n",
    "import gzip\n",
    "import shutil\n",
    "from datetime import datetime\n",
    "\n",
    "url = \"https://jsonplaceholder.typicode.com/todos/1\"\n",
    "response = requests.get(url)\n",
    "\n",
    "body_dict = response.json()\n",
    "\n",
    "df = pd.DataFrame.from_dict(body_dict, orient  = 'index')\n",
    "\n",
    "df_transposed = df.T # разворачиваем дф транспонированием\n",
    "df_transposed\n",
    "\n",
    "\n",
    "\n"
   ]
  },
  {
   "cell_type": "code",
   "execution_count": 11,
   "id": "32398817",
   "metadata": {},
   "outputs": [
    {
     "data": {
      "text/plain": [
       "'2024-09-09'"
      ]
     },
     "execution_count": 11,
     "metadata": {},
     "output_type": "execute_result"
    }
   ],
   "source": [
    "current_date = datetime.now().strftime('%Y-%m-%d')\n",
    "\n",
    "current_date"
   ]
  },
  {
   "cell_type": "code",
   "execution_count": 12,
   "id": "c1645ee7",
   "metadata": {},
   "outputs": [],
   "source": [
    "file_name = f'danila_api_test_{current_date}.csv.gz'"
   ]
  },
  {
   "cell_type": "code",
   "execution_count": 13,
   "id": "9b027c3f",
   "metadata": {},
   "outputs": [],
   "source": [
    "df_transposed.to_csv(file_name, compression='gzip', index = 'False')"
   ]
  },
  {
   "cell_type": "code",
   "execution_count": null,
   "id": "2044063f",
   "metadata": {},
   "outputs": [],
   "source": [
    "-------------------------------7.(Read about HTTP requests)----------------------------------\n",
    "what is it? what types exist? how do they differ?\n"
   ]
  },
  {
   "cell_type": "markdown",
   "id": "23528288",
   "metadata": {},
   "source": [
    "# Pandas"
   ]
  },
  {
   "cell_type": "code",
   "execution_count": null,
   "id": "b0660005",
   "metadata": {},
   "outputs": [],
   "source": [
    "1. Task: Read a CSV from a URL and calculate the average of a specific column.\n",
    "\n",
    "import pandas as pd\n",
    "\n",
    "def calculate_average(url, column_name):\n",
    "    pass\n",
    "\n",
    "# Test case\n",
    "url = \"https://people.sc.fsu.edu/~jburkardt/data/csv/hw_200.csv\"\n",
    "assert round(calculate_average(url, \"Height(Inches)\"), 2) == 67.99"
   ]
  },
  {
   "cell_type": "code",
   "execution_count": 4,
   "id": "2fb3e736",
   "metadata": {},
   "outputs": [
    {
     "data": {
      "text/plain": [
       "67.94979999999998"
      ]
     },
     "execution_count": 4,
     "metadata": {},
     "output_type": "execute_result"
    }
   ],
   "source": [
    "import pandas as pd\n",
    "\n",
    "df = pd.read_csv('https://people.sc.fsu.edu/~jburkardt/data/csv/hw_200.csv')\n",
    "\n",
    "df.columns.values.tolist ()\n",
    "\n",
    "df[' Height(Inches)\"'].mean()"
   ]
  },
  {
   "cell_type": "code",
   "execution_count": 7,
   "id": "a36fa6b2",
   "metadata": {},
   "outputs": [
    {
     "data": {
      "text/plain": [
       "67.94979999999998"
      ]
     },
     "execution_count": 7,
     "metadata": {},
     "output_type": "execute_result"
    }
   ],
   "source": [
    "import pandas as pd\n",
    "\n",
    "def count_avg(url, column_name):\n",
    "    df = pd.read_csv(url)\n",
    "    return df[column_name].mean()\n",
    "\n",
    "url = \"https://people.sc.fsu.edu/~jburkardt/data/csv/hw_200.csv\"\n",
    "column_name = ' Height(Inches)\"'\n",
    "\n",
    "count_avg(url,  column_name)"
   ]
  },
  {
   "cell_type": "code",
   "execution_count": null,
   "id": "a8f4cc6d",
   "metadata": {},
   "outputs": [],
   "source": [
    "2. Task: Read JSON data from a URL and group by a specific field, calculating the sum of another field.\n",
    "def group_and_sum(url, group_by_col, sum_col):\n",
    "    pass\n",
    "\n",
    "# Test case\n",
    "url = \"https://jsonplaceholder.typicode.com/todos\"\n",
    "assert group_and_sum(url, \"userId\", \"id\") == {1: 55, 2: 55, 3: 55, 4: 55, 5: 55, 6: 45, 7: 35, 8: 40, 9: 45, 10: 45}"
   ]
  },
  {
   "cell_type": "code",
   "execution_count": 4,
   "id": "3ade5866",
   "metadata": {},
   "outputs": [
    {
     "data": {
      "text/html": [
       "<div>\n",
       "<style scoped>\n",
       "    .dataframe tbody tr th:only-of-type {\n",
       "        vertical-align: middle;\n",
       "    }\n",
       "\n",
       "    .dataframe tbody tr th {\n",
       "        vertical-align: top;\n",
       "    }\n",
       "\n",
       "    .dataframe thead th {\n",
       "        text-align: right;\n",
       "    }\n",
       "</style>\n",
       "<table border=\"1\" class=\"dataframe\">\n",
       "  <thead>\n",
       "    <tr style=\"text-align: right;\">\n",
       "      <th></th>\n",
       "      <th>userId</th>\n",
       "      <th>id</th>\n",
       "      <th>title</th>\n",
       "      <th>completed</th>\n",
       "    </tr>\n",
       "  </thead>\n",
       "  <tbody>\n",
       "    <tr>\n",
       "      <th>0</th>\n",
       "      <td>1</td>\n",
       "      <td>1</td>\n",
       "      <td>delectus aut autem</td>\n",
       "      <td>False</td>\n",
       "    </tr>\n",
       "    <tr>\n",
       "      <th>1</th>\n",
       "      <td>1</td>\n",
       "      <td>2</td>\n",
       "      <td>quis ut nam facilis et officia qui</td>\n",
       "      <td>False</td>\n",
       "    </tr>\n",
       "    <tr>\n",
       "      <th>2</th>\n",
       "      <td>1</td>\n",
       "      <td>3</td>\n",
       "      <td>fugiat veniam minus</td>\n",
       "      <td>False</td>\n",
       "    </tr>\n",
       "    <tr>\n",
       "      <th>3</th>\n",
       "      <td>1</td>\n",
       "      <td>4</td>\n",
       "      <td>et porro tempora</td>\n",
       "      <td>True</td>\n",
       "    </tr>\n",
       "    <tr>\n",
       "      <th>4</th>\n",
       "      <td>1</td>\n",
       "      <td>5</td>\n",
       "      <td>laboriosam mollitia et enim quasi adipisci qui...</td>\n",
       "      <td>False</td>\n",
       "    </tr>\n",
       "    <tr>\n",
       "      <th>...</th>\n",
       "      <td>...</td>\n",
       "      <td>...</td>\n",
       "      <td>...</td>\n",
       "      <td>...</td>\n",
       "    </tr>\n",
       "    <tr>\n",
       "      <th>195</th>\n",
       "      <td>10</td>\n",
       "      <td>196</td>\n",
       "      <td>consequuntur aut ut fugit similique</td>\n",
       "      <td>True</td>\n",
       "    </tr>\n",
       "    <tr>\n",
       "      <th>196</th>\n",
       "      <td>10</td>\n",
       "      <td>197</td>\n",
       "      <td>dignissimos quo nobis earum saepe</td>\n",
       "      <td>True</td>\n",
       "    </tr>\n",
       "    <tr>\n",
       "      <th>197</th>\n",
       "      <td>10</td>\n",
       "      <td>198</td>\n",
       "      <td>quis eius est sint explicabo</td>\n",
       "      <td>True</td>\n",
       "    </tr>\n",
       "    <tr>\n",
       "      <th>198</th>\n",
       "      <td>10</td>\n",
       "      <td>199</td>\n",
       "      <td>numquam repellendus a magnam</td>\n",
       "      <td>True</td>\n",
       "    </tr>\n",
       "    <tr>\n",
       "      <th>199</th>\n",
       "      <td>10</td>\n",
       "      <td>200</td>\n",
       "      <td>ipsam aperiam voluptates qui</td>\n",
       "      <td>False</td>\n",
       "    </tr>\n",
       "  </tbody>\n",
       "</table>\n",
       "<p>200 rows × 4 columns</p>\n",
       "</div>"
      ],
      "text/plain": [
       "     userId   id                                              title  completed\n",
       "0         1    1                                 delectus aut autem      False\n",
       "1         1    2                 quis ut nam facilis et officia qui      False\n",
       "2         1    3                                fugiat veniam minus      False\n",
       "3         1    4                                   et porro tempora       True\n",
       "4         1    5  laboriosam mollitia et enim quasi adipisci qui...      False\n",
       "..      ...  ...                                                ...        ...\n",
       "195      10  196                consequuntur aut ut fugit similique       True\n",
       "196      10  197                  dignissimos quo nobis earum saepe       True\n",
       "197      10  198                       quis eius est sint explicabo       True\n",
       "198      10  199                       numquam repellendus a magnam       True\n",
       "199      10  200                       ipsam aperiam voluptates qui      False\n",
       "\n",
       "[200 rows x 4 columns]"
      ]
     },
     "execution_count": 4,
     "metadata": {},
     "output_type": "execute_result"
    }
   ],
   "source": [
    "import pandas as pd\n",
    "\n",
    "df2 = pd.read_json('https://jsonplaceholder.typicode.com/todos')\n",
    "\n",
    "df2\n"
   ]
  },
  {
   "cell_type": "code",
   "execution_count": 31,
   "id": "364d1bc9",
   "metadata": {},
   "outputs": [
    {
     "data": {
      "text/html": [
       "<div>\n",
       "<style scoped>\n",
       "    .dataframe tbody tr th:only-of-type {\n",
       "        vertical-align: middle;\n",
       "    }\n",
       "\n",
       "    .dataframe tbody tr th {\n",
       "        vertical-align: top;\n",
       "    }\n",
       "\n",
       "    .dataframe thead th {\n",
       "        text-align: right;\n",
       "    }\n",
       "</style>\n",
       "<table border=\"1\" class=\"dataframe\">\n",
       "  <thead>\n",
       "    <tr style=\"text-align: right;\">\n",
       "      <th></th>\n",
       "      <th>userId</th>\n",
       "      <th>id</th>\n",
       "    </tr>\n",
       "  </thead>\n",
       "  <tbody>\n",
       "    <tr>\n",
       "      <th>0</th>\n",
       "      <td>1</td>\n",
       "      <td>210</td>\n",
       "    </tr>\n",
       "    <tr>\n",
       "      <th>1</th>\n",
       "      <td>2</td>\n",
       "      <td>610</td>\n",
       "    </tr>\n",
       "    <tr>\n",
       "      <th>2</th>\n",
       "      <td>3</td>\n",
       "      <td>1010</td>\n",
       "    </tr>\n",
       "    <tr>\n",
       "      <th>3</th>\n",
       "      <td>4</td>\n",
       "      <td>1410</td>\n",
       "    </tr>\n",
       "    <tr>\n",
       "      <th>4</th>\n",
       "      <td>5</td>\n",
       "      <td>1810</td>\n",
       "    </tr>\n",
       "    <tr>\n",
       "      <th>5</th>\n",
       "      <td>6</td>\n",
       "      <td>2210</td>\n",
       "    </tr>\n",
       "    <tr>\n",
       "      <th>6</th>\n",
       "      <td>7</td>\n",
       "      <td>2610</td>\n",
       "    </tr>\n",
       "    <tr>\n",
       "      <th>7</th>\n",
       "      <td>8</td>\n",
       "      <td>3010</td>\n",
       "    </tr>\n",
       "    <tr>\n",
       "      <th>8</th>\n",
       "      <td>9</td>\n",
       "      <td>3410</td>\n",
       "    </tr>\n",
       "    <tr>\n",
       "      <th>9</th>\n",
       "      <td>10</td>\n",
       "      <td>3810</td>\n",
       "    </tr>\n",
       "  </tbody>\n",
       "</table>\n",
       "</div>"
      ],
      "text/plain": [
       "   userId    id\n",
       "0       1   210\n",
       "1       2   610\n",
       "2       3  1010\n",
       "3       4  1410\n",
       "4       5  1810\n",
       "5       6  2210\n",
       "6       7  2610\n",
       "7       8  3010\n",
       "8       9  3410\n",
       "9      10  3810"
      ]
     },
     "execution_count": 31,
     "metadata": {},
     "output_type": "execute_result"
    }
   ],
   "source": [
    "df_new = df2.groupby('userId')['id'].sum().reset_index()\n",
    "\n",
    "\n",
    "\n",
    "df_new\n"
   ]
  },
  {
   "cell_type": "code",
   "execution_count": 30,
   "id": "fc3b7d0e",
   "metadata": {},
   "outputs": [
    {
     "data": {
      "text/plain": [
       "{'userId': {0: 1, 1: 2, 2: 3, 3: 4, 4: 5, 5: 6, 6: 7, 7: 8, 8: 9, 9: 10},\n",
       " 'id': {0: 210,\n",
       "  1: 610,\n",
       "  2: 1010,\n",
       "  3: 1410,\n",
       "  4: 1810,\n",
       "  5: 2210,\n",
       "  6: 2610,\n",
       "  7: 3010,\n",
       "  8: 3410,\n",
       "  9: 3810}}"
      ]
     },
     "execution_count": 30,
     "metadata": {},
     "output_type": "execute_result"
    }
   ],
   "source": [
    "aa = df_new[['userId','id']].to_dict()\n",
    "\n",
    "aa\n",
    "\n"
   ]
  },
  {
   "cell_type": "code",
   "execution_count": null,
   "id": "089f7325",
   "metadata": {},
   "outputs": [],
   "source": [
    "3.  Task: Merge two dictionaries into a DataFrame, perform aggregation (mean), and filter out rows where a specific column is above a threshold.\n",
    "def merge_and_filter(dict1, dict2, col1, col2, threshold):\n",
    "    pass\n",
    "\n",
    "# Test case\n",
    "dict1 = {'id': [1, 2, 3, 4], 'value': [10, 15, 20, 25]}\n",
    "dict2 = {'id': [1, 2, 3, 4], 'score': [5, 10, 15, 20]}\n",
    "assert merge_and_filter(dict1, dict2, 'value', 'score', 15).equals(pd.DataFrame({'id': [3, 4], 'value': [20, 25], 'score': [15, 20]}))"
   ]
  },
  {
   "cell_type": "code",
   "execution_count": 7,
   "id": "253114a5",
   "metadata": {},
   "outputs": [
    {
     "data": {
      "text/html": [
       "<div>\n",
       "<style scoped>\n",
       "    .dataframe tbody tr th:only-of-type {\n",
       "        vertical-align: middle;\n",
       "    }\n",
       "\n",
       "    .dataframe tbody tr th {\n",
       "        vertical-align: top;\n",
       "    }\n",
       "\n",
       "    .dataframe thead th {\n",
       "        text-align: right;\n",
       "    }\n",
       "</style>\n",
       "<table border=\"1\" class=\"dataframe\">\n",
       "  <thead>\n",
       "    <tr style=\"text-align: right;\">\n",
       "      <th></th>\n",
       "      <th>id</th>\n",
       "      <th>value</th>\n",
       "    </tr>\n",
       "  </thead>\n",
       "  <tbody>\n",
       "    <tr>\n",
       "      <th>0</th>\n",
       "      <td>1</td>\n",
       "      <td>10</td>\n",
       "    </tr>\n",
       "    <tr>\n",
       "      <th>1</th>\n",
       "      <td>2</td>\n",
       "      <td>15</td>\n",
       "    </tr>\n",
       "    <tr>\n",
       "      <th>2</th>\n",
       "      <td>3</td>\n",
       "      <td>20</td>\n",
       "    </tr>\n",
       "    <tr>\n",
       "      <th>3</th>\n",
       "      <td>4</td>\n",
       "      <td>25</td>\n",
       "    </tr>\n",
       "  </tbody>\n",
       "</table>\n",
       "</div>"
      ],
      "text/plain": [
       "   id  value\n",
       "0   1     10\n",
       "1   2     15\n",
       "2   3     20\n",
       "3   4     25"
      ]
     },
     "execution_count": 7,
     "metadata": {},
     "output_type": "execute_result"
    }
   ],
   "source": [
    "import pandas as pd\n",
    "\n",
    "dict1 = {'id': [1, 2, 3, 4], 'value': [10, 15, 20, 25]}\n",
    "dict2 = {'id': [1, 2, 3, 4], 'score': [5, 10, 15, 20]}\n",
    "\n",
    "a = pd.DataFrame.from_dict(dict1)\n",
    "b = pd.DataFrame.from_dict(dict2)\n",
    "n = 15\n",
    "a\n"
   ]
  },
  {
   "cell_type": "code",
   "execution_count": 8,
   "id": "0c2c1d28",
   "metadata": {},
   "outputs": [
    {
     "data": {
      "text/html": [
       "<div>\n",
       "<style scoped>\n",
       "    .dataframe tbody tr th:only-of-type {\n",
       "        vertical-align: middle;\n",
       "    }\n",
       "\n",
       "    .dataframe tbody tr th {\n",
       "        vertical-align: top;\n",
       "    }\n",
       "\n",
       "    .dataframe thead th {\n",
       "        text-align: right;\n",
       "    }\n",
       "</style>\n",
       "<table border=\"1\" class=\"dataframe\">\n",
       "  <thead>\n",
       "    <tr style=\"text-align: right;\">\n",
       "      <th></th>\n",
       "      <th>id</th>\n",
       "      <th>score</th>\n",
       "    </tr>\n",
       "  </thead>\n",
       "  <tbody>\n",
       "    <tr>\n",
       "      <th>0</th>\n",
       "      <td>1</td>\n",
       "      <td>5</td>\n",
       "    </tr>\n",
       "    <tr>\n",
       "      <th>1</th>\n",
       "      <td>2</td>\n",
       "      <td>10</td>\n",
       "    </tr>\n",
       "    <tr>\n",
       "      <th>2</th>\n",
       "      <td>3</td>\n",
       "      <td>15</td>\n",
       "    </tr>\n",
       "    <tr>\n",
       "      <th>3</th>\n",
       "      <td>4</td>\n",
       "      <td>20</td>\n",
       "    </tr>\n",
       "  </tbody>\n",
       "</table>\n",
       "</div>"
      ],
      "text/plain": [
       "   id  score\n",
       "0   1      5\n",
       "1   2     10\n",
       "2   3     15\n",
       "3   4     20"
      ]
     },
     "execution_count": 8,
     "metadata": {},
     "output_type": "execute_result"
    }
   ],
   "source": [
    "b"
   ]
  },
  {
   "cell_type": "code",
   "execution_count": 9,
   "id": "597bfbd7",
   "metadata": {},
   "outputs": [
    {
     "data": {
      "text/html": [
       "<div>\n",
       "<style scoped>\n",
       "    .dataframe tbody tr th:only-of-type {\n",
       "        vertical-align: middle;\n",
       "    }\n",
       "\n",
       "    .dataframe tbody tr th {\n",
       "        vertical-align: top;\n",
       "    }\n",
       "\n",
       "    .dataframe thead th {\n",
       "        text-align: right;\n",
       "    }\n",
       "</style>\n",
       "<table border=\"1\" class=\"dataframe\">\n",
       "  <thead>\n",
       "    <tr style=\"text-align: right;\">\n",
       "      <th></th>\n",
       "      <th>id</th>\n",
       "      <th>value</th>\n",
       "      <th>score</th>\n",
       "    </tr>\n",
       "  </thead>\n",
       "  <tbody>\n",
       "    <tr>\n",
       "      <th>0</th>\n",
       "      <td>1</td>\n",
       "      <td>10</td>\n",
       "      <td>5</td>\n",
       "    </tr>\n",
       "    <tr>\n",
       "      <th>1</th>\n",
       "      <td>2</td>\n",
       "      <td>15</td>\n",
       "      <td>10</td>\n",
       "    </tr>\n",
       "    <tr>\n",
       "      <th>2</th>\n",
       "      <td>3</td>\n",
       "      <td>20</td>\n",
       "      <td>15</td>\n",
       "    </tr>\n",
       "    <tr>\n",
       "      <th>3</th>\n",
       "      <td>4</td>\n",
       "      <td>25</td>\n",
       "      <td>20</td>\n",
       "    </tr>\n",
       "  </tbody>\n",
       "</table>\n",
       "</div>"
      ],
      "text/plain": [
       "   id  value  score\n",
       "0   1     10      5\n",
       "1   2     15     10\n",
       "2   3     20     15\n",
       "3   4     25     20"
      ]
     },
     "execution_count": 9,
     "metadata": {},
     "output_type": "execute_result"
    }
   ],
   "source": [
    "d = a.merge(b, on = 'id', how = 'left')\n",
    "d"
   ]
  },
  {
   "cell_type": "code",
   "execution_count": 12,
   "id": "c3f34a24",
   "metadata": {},
   "outputs": [
    {
     "data": {
      "text/html": [
       "<div>\n",
       "<style scoped>\n",
       "    .dataframe tbody tr th:only-of-type {\n",
       "        vertical-align: middle;\n",
       "    }\n",
       "\n",
       "    .dataframe tbody tr th {\n",
       "        vertical-align: top;\n",
       "    }\n",
       "\n",
       "    .dataframe thead th {\n",
       "        text-align: right;\n",
       "    }\n",
       "</style>\n",
       "<table border=\"1\" class=\"dataframe\">\n",
       "  <thead>\n",
       "    <tr style=\"text-align: right;\">\n",
       "      <th></th>\n",
       "      <th>id</th>\n",
       "      <th>value</th>\n",
       "      <th>score</th>\n",
       "    </tr>\n",
       "  </thead>\n",
       "  <tbody>\n",
       "    <tr>\n",
       "      <th>2</th>\n",
       "      <td>3</td>\n",
       "      <td>20</td>\n",
       "      <td>15</td>\n",
       "    </tr>\n",
       "    <tr>\n",
       "      <th>3</th>\n",
       "      <td>4</td>\n",
       "      <td>25</td>\n",
       "      <td>20</td>\n",
       "    </tr>\n",
       "  </tbody>\n",
       "</table>\n",
       "</div>"
      ],
      "text/plain": [
       "   id  value  score\n",
       "2   3     20     15\n",
       "3   4     25     20"
      ]
     },
     "execution_count": 12,
     "metadata": {},
     "output_type": "execute_result"
    }
   ],
   "source": [
    "e = d[(d['value'] > n) | (d['score'] > n) ]\n",
    "e"
   ]
  },
  {
   "cell_type": "code",
   "execution_count": null,
   "id": "cf870299",
   "metadata": {},
   "outputs": [],
   "source": []
  },
  {
   "cell_type": "code",
   "execution_count": null,
   "id": "24b20135",
   "metadata": {},
   "outputs": [],
   "source": []
  },
  {
   "cell_type": "code",
   "execution_count": null,
   "id": "528e90c5",
   "metadata": {},
   "outputs": [],
   "source": [
    "4. Task: Read a JSON file, group by one column, and calculate the count for each group.\n",
    "def group_and_count(url, group_by_col):\n",
    "    pass\n",
    "\n",
    "# Test case\n",
    "url = \"https://jsonplaceholder.typicode.com/todos\"\n",
    "assert group_and_count(url, \"completed\") == {False: 120, True: 80}"
   ]
  },
  {
   "cell_type": "code",
   "execution_count": 17,
   "id": "45b955fa",
   "metadata": {},
   "outputs": [
    {
     "data": {
      "text/html": [
       "<div>\n",
       "<style scoped>\n",
       "    .dataframe tbody tr th:only-of-type {\n",
       "        vertical-align: middle;\n",
       "    }\n",
       "\n",
       "    .dataframe tbody tr th {\n",
       "        vertical-align: top;\n",
       "    }\n",
       "\n",
       "    .dataframe thead th {\n",
       "        text-align: right;\n",
       "    }\n",
       "</style>\n",
       "<table border=\"1\" class=\"dataframe\">\n",
       "  <thead>\n",
       "    <tr style=\"text-align: right;\">\n",
       "      <th></th>\n",
       "      <th>userId</th>\n",
       "      <th>id</th>\n",
       "      <th>title</th>\n",
       "      <th>completed</th>\n",
       "    </tr>\n",
       "  </thead>\n",
       "  <tbody>\n",
       "    <tr>\n",
       "      <th>0</th>\n",
       "      <td>1</td>\n",
       "      <td>1</td>\n",
       "      <td>delectus aut autem</td>\n",
       "      <td>False</td>\n",
       "    </tr>\n",
       "    <tr>\n",
       "      <th>1</th>\n",
       "      <td>1</td>\n",
       "      <td>2</td>\n",
       "      <td>quis ut nam facilis et officia qui</td>\n",
       "      <td>False</td>\n",
       "    </tr>\n",
       "    <tr>\n",
       "      <th>2</th>\n",
       "      <td>1</td>\n",
       "      <td>3</td>\n",
       "      <td>fugiat veniam minus</td>\n",
       "      <td>False</td>\n",
       "    </tr>\n",
       "    <tr>\n",
       "      <th>3</th>\n",
       "      <td>1</td>\n",
       "      <td>4</td>\n",
       "      <td>et porro tempora</td>\n",
       "      <td>True</td>\n",
       "    </tr>\n",
       "    <tr>\n",
       "      <th>4</th>\n",
       "      <td>1</td>\n",
       "      <td>5</td>\n",
       "      <td>laboriosam mollitia et enim quasi adipisci qui...</td>\n",
       "      <td>False</td>\n",
       "    </tr>\n",
       "    <tr>\n",
       "      <th>...</th>\n",
       "      <td>...</td>\n",
       "      <td>...</td>\n",
       "      <td>...</td>\n",
       "      <td>...</td>\n",
       "    </tr>\n",
       "    <tr>\n",
       "      <th>195</th>\n",
       "      <td>10</td>\n",
       "      <td>196</td>\n",
       "      <td>consequuntur aut ut fugit similique</td>\n",
       "      <td>True</td>\n",
       "    </tr>\n",
       "    <tr>\n",
       "      <th>196</th>\n",
       "      <td>10</td>\n",
       "      <td>197</td>\n",
       "      <td>dignissimos quo nobis earum saepe</td>\n",
       "      <td>True</td>\n",
       "    </tr>\n",
       "    <tr>\n",
       "      <th>197</th>\n",
       "      <td>10</td>\n",
       "      <td>198</td>\n",
       "      <td>quis eius est sint explicabo</td>\n",
       "      <td>True</td>\n",
       "    </tr>\n",
       "    <tr>\n",
       "      <th>198</th>\n",
       "      <td>10</td>\n",
       "      <td>199</td>\n",
       "      <td>numquam repellendus a magnam</td>\n",
       "      <td>True</td>\n",
       "    </tr>\n",
       "    <tr>\n",
       "      <th>199</th>\n",
       "      <td>10</td>\n",
       "      <td>200</td>\n",
       "      <td>ipsam aperiam voluptates qui</td>\n",
       "      <td>False</td>\n",
       "    </tr>\n",
       "  </tbody>\n",
       "</table>\n",
       "<p>200 rows × 4 columns</p>\n",
       "</div>"
      ],
      "text/plain": [
       "     userId   id                                              title  completed\n",
       "0         1    1                                 delectus aut autem      False\n",
       "1         1    2                 quis ut nam facilis et officia qui      False\n",
       "2         1    3                                fugiat veniam minus      False\n",
       "3         1    4                                   et porro tempora       True\n",
       "4         1    5  laboriosam mollitia et enim quasi adipisci qui...      False\n",
       "..      ...  ...                                                ...        ...\n",
       "195      10  196                consequuntur aut ut fugit similique       True\n",
       "196      10  197                  dignissimos quo nobis earum saepe       True\n",
       "197      10  198                       quis eius est sint explicabo       True\n",
       "198      10  199                       numquam repellendus a magnam       True\n",
       "199      10  200                       ipsam aperiam voluptates qui      False\n",
       "\n",
       "[200 rows x 4 columns]"
      ]
     },
     "execution_count": 17,
     "metadata": {},
     "output_type": "execute_result"
    }
   ],
   "source": [
    "import pandas as pd\n",
    "\n",
    "df = pd.read_json('https://jsonplaceholder.typicode.com/todos')\n",
    "\n",
    "df"
   ]
  },
  {
   "cell_type": "code",
   "execution_count": 18,
   "id": "cf1c8b67",
   "metadata": {},
   "outputs": [
    {
     "data": {
      "text/plain": [
       "{False: 110, True: 90}"
      ]
     },
     "execution_count": 18,
     "metadata": {},
     "output_type": "execute_result"
    }
   ],
   "source": [
    "df = df['completed'].value_counts()\n",
    "\n",
    "result = df.to_dict()\n",
    "\n",
    "result"
   ]
  },
  {
   "cell_type": "code",
   "execution_count": null,
   "id": "7337a0c9",
   "metadata": {},
   "outputs": [],
   "source": []
  },
  {
   "cell_type": "code",
   "execution_count": null,
   "id": "0f391783",
   "metadata": {},
   "outputs": [],
   "source": []
  },
  {
   "cell_type": "code",
   "execution_count": null,
   "id": "b2dd6e11",
   "metadata": {},
   "outputs": [],
   "source": [
    "5.  Task: Perform a pivot table operation on a DataFrame generated from a dictionary.\n",
    "def pivot_table_from_dict(data, index, columns, values, aggfunc):\n",
    "    pass\n",
    "\n",
    "# Test case\n",
    "data = {'Region': ['North', 'South', 'North', 'South'], 'Product': ['A', 'A', 'B', 'B'], 'Sales': [100, 200, 150, 300]}\n",
    "assert pivot_table_from_dict(data, 'Region', 'Product', 'Sales', 'sum').equals(pd.DataFrame({'A': [100, 200], 'B': [150, 300]}, index=['North', 'South']))"
   ]
  },
  {
   "cell_type": "code",
   "execution_count": 46,
   "id": "d08bdaab",
   "metadata": {},
   "outputs": [
    {
     "data": {
      "text/html": [
       "<div>\n",
       "<style scoped>\n",
       "    .dataframe tbody tr th:only-of-type {\n",
       "        vertical-align: middle;\n",
       "    }\n",
       "\n",
       "    .dataframe tbody tr th {\n",
       "        vertical-align: top;\n",
       "    }\n",
       "\n",
       "    .dataframe thead th {\n",
       "        text-align: right;\n",
       "    }\n",
       "</style>\n",
       "<table border=\"1\" class=\"dataframe\">\n",
       "  <thead>\n",
       "    <tr style=\"text-align: right;\">\n",
       "      <th></th>\n",
       "      <th>Region</th>\n",
       "      <th>Product</th>\n",
       "      <th>Sales</th>\n",
       "    </tr>\n",
       "  </thead>\n",
       "  <tbody>\n",
       "    <tr>\n",
       "      <th>0</th>\n",
       "      <td>North</td>\n",
       "      <td>A</td>\n",
       "      <td>100</td>\n",
       "    </tr>\n",
       "    <tr>\n",
       "      <th>1</th>\n",
       "      <td>South</td>\n",
       "      <td>A</td>\n",
       "      <td>200</td>\n",
       "    </tr>\n",
       "    <tr>\n",
       "      <th>2</th>\n",
       "      <td>North</td>\n",
       "      <td>B</td>\n",
       "      <td>150</td>\n",
       "    </tr>\n",
       "    <tr>\n",
       "      <th>3</th>\n",
       "      <td>South</td>\n",
       "      <td>B</td>\n",
       "      <td>300</td>\n",
       "    </tr>\n",
       "  </tbody>\n",
       "</table>\n",
       "</div>"
      ],
      "text/plain": [
       "  Region Product  Sales\n",
       "0  North       A    100\n",
       "1  South       A    200\n",
       "2  North       B    150\n",
       "3  South       B    300"
      ]
     },
     "execution_count": 46,
     "metadata": {},
     "output_type": "execute_result"
    }
   ],
   "source": [
    "import pandas as pd\n",
    "import numpy as np\n",
    "\n",
    "data = {'Region': ['North', 'South', 'North', 'South'], 'Product': ['A', 'A', 'B', 'B'], 'Sales': [100, 200, 150, 300]}\n",
    "\n",
    "df = pd.DataFrame.from_dict(data)\n",
    "\n",
    "df "
   ]
  },
  {
   "cell_type": "code",
   "execution_count": 56,
   "id": "9da36047",
   "metadata": {},
   "outputs": [
    {
     "data": {
      "text/html": [
       "<div>\n",
       "<style scoped>\n",
       "    .dataframe tbody tr th:only-of-type {\n",
       "        vertical-align: middle;\n",
       "    }\n",
       "\n",
       "    .dataframe tbody tr th {\n",
       "        vertical-align: top;\n",
       "    }\n",
       "\n",
       "    .dataframe thead tr th {\n",
       "        text-align: left;\n",
       "    }\n",
       "\n",
       "    .dataframe thead tr:last-of-type th {\n",
       "        text-align: right;\n",
       "    }\n",
       "</style>\n",
       "<table border=\"1\" class=\"dataframe\">\n",
       "  <thead>\n",
       "    <tr>\n",
       "      <th></th>\n",
       "      <th colspan=\"2\" halign=\"left\">Sales</th>\n",
       "    </tr>\n",
       "    <tr>\n",
       "      <th>Product</th>\n",
       "      <th>A</th>\n",
       "      <th>B</th>\n",
       "    </tr>\n",
       "    <tr>\n",
       "      <th>Region</th>\n",
       "      <th></th>\n",
       "      <th></th>\n",
       "    </tr>\n",
       "  </thead>\n",
       "  <tbody>\n",
       "    <tr>\n",
       "      <th>North</th>\n",
       "      <td>100</td>\n",
       "      <td>150</td>\n",
       "    </tr>\n",
       "    <tr>\n",
       "      <th>South</th>\n",
       "      <td>200</td>\n",
       "      <td>300</td>\n",
       "    </tr>\n",
       "  </tbody>\n",
       "</table>\n",
       "</div>"
      ],
      "text/plain": [
       "        Sales     \n",
       "Product     A    B\n",
       "Region            \n",
       "North     100  150\n",
       "South     200  300"
      ]
     },
     "execution_count": 56,
     "metadata": {},
     "output_type": "execute_result"
    }
   ],
   "source": [
    "dfpivoted = df.pivot_table(index = ['Region'], columns = ['Product'])\n",
    "dfpivoted"
   ]
  },
  {
   "cell_type": "code",
   "execution_count": null,
   "id": "7e15aaaa",
   "metadata": {},
   "outputs": [],
   "source": []
  },
  {
   "cell_type": "code",
   "execution_count": null,
   "id": "3fc986cd",
   "metadata": {},
   "outputs": [],
   "source": []
  },
  {
   "cell_type": "code",
   "execution_count": null,
   "id": "ed0a9520",
   "metadata": {},
   "outputs": [],
   "source": [
    "6. Task: Read a CSV from url, make all column's values in lower case, drop duplicates and rows where are blank/null values, and save it to a new CSV.\n",
    "url = \"https://people.sc.fsu.edu/~jburkardt/data/csv/addresses.csv\""
   ]
  },
  {
   "cell_type": "code",
   "execution_count": 21,
   "id": "9936ad6f",
   "metadata": {},
   "outputs": [
    {
     "data": {
      "text/html": [
       "<div>\n",
       "<style scoped>\n",
       "    .dataframe tbody tr th:only-of-type {\n",
       "        vertical-align: middle;\n",
       "    }\n",
       "\n",
       "    .dataframe tbody tr th {\n",
       "        vertical-align: top;\n",
       "    }\n",
       "\n",
       "    .dataframe thead th {\n",
       "        text-align: right;\n",
       "    }\n",
       "</style>\n",
       "<table border=\"1\" class=\"dataframe\">\n",
       "  <thead>\n",
       "    <tr style=\"text-align: right;\">\n",
       "      <th></th>\n",
       "      <th>John</th>\n",
       "      <th>Doe</th>\n",
       "      <th>120 jefferson st.</th>\n",
       "      <th>Riverside</th>\n",
       "      <th>NJ</th>\n",
       "      <th>08075</th>\n",
       "    </tr>\n",
       "  </thead>\n",
       "  <tbody>\n",
       "    <tr>\n",
       "      <th>0</th>\n",
       "      <td>Jack</td>\n",
       "      <td>McGinnis</td>\n",
       "      <td>220 hobo Av.</td>\n",
       "      <td>Phila</td>\n",
       "      <td>PA</td>\n",
       "      <td>9119</td>\n",
       "    </tr>\n",
       "    <tr>\n",
       "      <th>1</th>\n",
       "      <td>John \"Da Man\"</td>\n",
       "      <td>Repici</td>\n",
       "      <td>120 Jefferson St.</td>\n",
       "      <td>Riverside</td>\n",
       "      <td>NJ</td>\n",
       "      <td>8075</td>\n",
       "    </tr>\n",
       "    <tr>\n",
       "      <th>2</th>\n",
       "      <td>Stephen</td>\n",
       "      <td>Tyler</td>\n",
       "      <td>7452 Terrace \"At the Plaza\" road</td>\n",
       "      <td>SomeTown</td>\n",
       "      <td>SD</td>\n",
       "      <td>91234</td>\n",
       "    </tr>\n",
       "    <tr>\n",
       "      <th>3</th>\n",
       "      <td>NaN</td>\n",
       "      <td>Blankman</td>\n",
       "      <td>NaN</td>\n",
       "      <td>SomeTown</td>\n",
       "      <td>SD</td>\n",
       "      <td>298</td>\n",
       "    </tr>\n",
       "    <tr>\n",
       "      <th>4</th>\n",
       "      <td>Joan \"the bone\", Anne</td>\n",
       "      <td>Jet</td>\n",
       "      <td>9th, at Terrace plc</td>\n",
       "      <td>Desert City</td>\n",
       "      <td>CO</td>\n",
       "      <td>123</td>\n",
       "    </tr>\n",
       "  </tbody>\n",
       "</table>\n",
       "</div>"
      ],
      "text/plain": [
       "                    John       Doe                 120 jefferson st.  \\\n",
       "0                   Jack  McGinnis                      220 hobo Av.   \n",
       "1          John \"Da Man\"    Repici                 120 Jefferson St.   \n",
       "2                Stephen     Tyler  7452 Terrace \"At the Plaza\" road   \n",
       "3                    NaN  Blankman                               NaN   \n",
       "4  Joan \"the bone\", Anne       Jet               9th, at Terrace plc   \n",
       "\n",
       "     Riverside   NJ   08075  \n",
       "0        Phila   PA    9119  \n",
       "1    Riverside   NJ    8075  \n",
       "2     SomeTown   SD   91234  \n",
       "3     SomeTown   SD     298  \n",
       "4  Desert City   CO     123  "
      ]
     },
     "execution_count": 21,
     "metadata": {},
     "output_type": "execute_result"
    }
   ],
   "source": [
    "import pandas as pd\n",
    "\n",
    "df = pd.read_csv('https://people.sc.fsu.edu/~jburkardt/data/csv/addresses.csv')"
   ]
  },
  {
   "cell_type": "code",
   "execution_count": 22,
   "id": "38836c30",
   "metadata": {},
   "outputs": [
    {
     "data": {
      "text/html": [
       "<div>\n",
       "<style scoped>\n",
       "    .dataframe tbody tr th:only-of-type {\n",
       "        vertical-align: middle;\n",
       "    }\n",
       "\n",
       "    .dataframe tbody tr th {\n",
       "        vertical-align: top;\n",
       "    }\n",
       "\n",
       "    .dataframe thead th {\n",
       "        text-align: right;\n",
       "    }\n",
       "</style>\n",
       "<table border=\"1\" class=\"dataframe\">\n",
       "  <thead>\n",
       "    <tr style=\"text-align: right;\">\n",
       "      <th></th>\n",
       "      <th>john</th>\n",
       "      <th>doe</th>\n",
       "      <th>120 jefferson st.</th>\n",
       "      <th>riverside</th>\n",
       "      <th>nj</th>\n",
       "      <th>08075</th>\n",
       "    </tr>\n",
       "  </thead>\n",
       "  <tbody>\n",
       "    <tr>\n",
       "      <th>0</th>\n",
       "      <td>Jack</td>\n",
       "      <td>McGinnis</td>\n",
       "      <td>220 hobo Av.</td>\n",
       "      <td>Phila</td>\n",
       "      <td>PA</td>\n",
       "      <td>9119</td>\n",
       "    </tr>\n",
       "    <tr>\n",
       "      <th>1</th>\n",
       "      <td>John \"Da Man\"</td>\n",
       "      <td>Repici</td>\n",
       "      <td>120 Jefferson St.</td>\n",
       "      <td>Riverside</td>\n",
       "      <td>NJ</td>\n",
       "      <td>8075</td>\n",
       "    </tr>\n",
       "    <tr>\n",
       "      <th>2</th>\n",
       "      <td>Stephen</td>\n",
       "      <td>Tyler</td>\n",
       "      <td>7452 Terrace \"At the Plaza\" road</td>\n",
       "      <td>SomeTown</td>\n",
       "      <td>SD</td>\n",
       "      <td>91234</td>\n",
       "    </tr>\n",
       "    <tr>\n",
       "      <th>3</th>\n",
       "      <td>NaN</td>\n",
       "      <td>Blankman</td>\n",
       "      <td>NaN</td>\n",
       "      <td>SomeTown</td>\n",
       "      <td>SD</td>\n",
       "      <td>298</td>\n",
       "    </tr>\n",
       "    <tr>\n",
       "      <th>4</th>\n",
       "      <td>Joan \"the bone\", Anne</td>\n",
       "      <td>Jet</td>\n",
       "      <td>9th, at Terrace plc</td>\n",
       "      <td>Desert City</td>\n",
       "      <td>CO</td>\n",
       "      <td>123</td>\n",
       "    </tr>\n",
       "  </tbody>\n",
       "</table>\n",
       "</div>"
      ],
      "text/plain": [
       "                    john       doe                 120 jefferson st.  \\\n",
       "0                   Jack  McGinnis                      220 hobo Av.   \n",
       "1          John \"Da Man\"    Repici                 120 Jefferson St.   \n",
       "2                Stephen     Tyler  7452 Terrace \"At the Plaza\" road   \n",
       "3                    NaN  Blankman                               NaN   \n",
       "4  Joan \"the bone\", Anne       Jet               9th, at Terrace plc   \n",
       "\n",
       "     riverside   nj   08075  \n",
       "0        Phila   PA    9119  \n",
       "1    Riverside   NJ    8075  \n",
       "2     SomeTown   SD   91234  \n",
       "3     SomeTown   SD     298  \n",
       "4  Desert City   CO     123  "
      ]
     },
     "execution_count": 22,
     "metadata": {},
     "output_type": "execute_result"
    }
   ],
   "source": [
    "df = df.rename(columns = lambda col : col.lower())"
   ]
  },
  {
   "cell_type": "code",
   "execution_count": 24,
   "id": "25384bc5",
   "metadata": {},
   "outputs": [
    {
     "data": {
      "text/html": [
       "<div>\n",
       "<style scoped>\n",
       "    .dataframe tbody tr th:only-of-type {\n",
       "        vertical-align: middle;\n",
       "    }\n",
       "\n",
       "    .dataframe tbody tr th {\n",
       "        vertical-align: top;\n",
       "    }\n",
       "\n",
       "    .dataframe thead th {\n",
       "        text-align: right;\n",
       "    }\n",
       "</style>\n",
       "<table border=\"1\" class=\"dataframe\">\n",
       "  <thead>\n",
       "    <tr style=\"text-align: right;\">\n",
       "      <th></th>\n",
       "      <th>john</th>\n",
       "      <th>doe</th>\n",
       "      <th>120 jefferson st.</th>\n",
       "      <th>riverside</th>\n",
       "      <th>nj</th>\n",
       "      <th>08075</th>\n",
       "    </tr>\n",
       "  </thead>\n",
       "  <tbody>\n",
       "    <tr>\n",
       "      <th>0</th>\n",
       "      <td>Jack</td>\n",
       "      <td>McGinnis</td>\n",
       "      <td>220 hobo Av.</td>\n",
       "      <td>Phila</td>\n",
       "      <td>PA</td>\n",
       "      <td>9119</td>\n",
       "    </tr>\n",
       "    <tr>\n",
       "      <th>1</th>\n",
       "      <td>John \"Da Man\"</td>\n",
       "      <td>Repici</td>\n",
       "      <td>120 Jefferson St.</td>\n",
       "      <td>Riverside</td>\n",
       "      <td>NJ</td>\n",
       "      <td>8075</td>\n",
       "    </tr>\n",
       "    <tr>\n",
       "      <th>2</th>\n",
       "      <td>Stephen</td>\n",
       "      <td>Tyler</td>\n",
       "      <td>7452 Terrace \"At the Plaza\" road</td>\n",
       "      <td>SomeTown</td>\n",
       "      <td>SD</td>\n",
       "      <td>91234</td>\n",
       "    </tr>\n",
       "    <tr>\n",
       "      <th>4</th>\n",
       "      <td>Joan \"the bone\", Anne</td>\n",
       "      <td>Jet</td>\n",
       "      <td>9th, at Terrace plc</td>\n",
       "      <td>Desert City</td>\n",
       "      <td>CO</td>\n",
       "      <td>123</td>\n",
       "    </tr>\n",
       "  </tbody>\n",
       "</table>\n",
       "</div>"
      ],
      "text/plain": [
       "                    john       doe                 120 jefferson st.  \\\n",
       "0                   Jack  McGinnis                      220 hobo Av.   \n",
       "1          John \"Da Man\"    Repici                 120 Jefferson St.   \n",
       "2                Stephen     Tyler  7452 Terrace \"At the Plaza\" road   \n",
       "4  Joan \"the bone\", Anne       Jet               9th, at Terrace plc   \n",
       "\n",
       "     riverside   nj   08075  \n",
       "0        Phila   PA    9119  \n",
       "1    Riverside   NJ    8075  \n",
       "2     SomeTown   SD   91234  \n",
       "4  Desert City   CO     123  "
      ]
     },
     "execution_count": 24,
     "metadata": {},
     "output_type": "execute_result"
    }
   ],
   "source": [
    "df = df.drop_duplicates()\n",
    "df = df.dropna() "
   ]
  },
  {
   "cell_type": "code",
   "execution_count": 25,
   "id": "faed838e",
   "metadata": {},
   "outputs": [],
   "source": [
    "df.to_csv('555.csv')"
   ]
  },
  {
   "cell_type": "code",
   "execution_count": null,
   "id": "3f9b3bab",
   "metadata": {},
   "outputs": [],
   "source": []
  },
  {
   "cell_type": "code",
   "execution_count": null,
   "id": "66ea146a",
   "metadata": {},
   "outputs": [],
   "source": []
  },
  {
   "cell_type": "code",
   "execution_count": null,
   "id": "dff3bcf9",
   "metadata": {},
   "outputs": [],
   "source": []
  },
  {
   "cell_type": "code",
   "execution_count": null,
   "id": "fabd6118",
   "metadata": {},
   "outputs": [],
   "source": []
  },
  {
   "cell_type": "code",
   "execution_count": null,
   "id": "61196c8b",
   "metadata": {},
   "outputs": [],
   "source": [
    "7.Task: Load data from a dictionary, create a new column based on a condition, and return the DataFrame.\n",
    "\t\tCondition -> if age < 20, new column should have False, else True \n",
    "def create_new_column(data, condition_col, new_col_name):\n",
    "    pass\n",
    "\n",
    "# Test case\n",
    "data = {'Age': [18, 22, 30, 45], 'Name': ['Alice', 'Bob', 'Charlie', 'David']}\n",
    "assert create_new_column(data, 'Age', 'Adult').equals(pd.DataFrame({'Age': [18, 22, 30, 45], 'Name': ['Alice', 'Bob', 'Charlie', 'David'], 'Adult': [False, True, True, True]}))"
   ]
  },
  {
   "cell_type": "code",
   "execution_count": 27,
   "id": "c6c4fd6f",
   "metadata": {},
   "outputs": [
    {
     "data": {
      "text/html": [
       "<div>\n",
       "<style scoped>\n",
       "    .dataframe tbody tr th:only-of-type {\n",
       "        vertical-align: middle;\n",
       "    }\n",
       "\n",
       "    .dataframe tbody tr th {\n",
       "        vertical-align: top;\n",
       "    }\n",
       "\n",
       "    .dataframe thead th {\n",
       "        text-align: right;\n",
       "    }\n",
       "</style>\n",
       "<table border=\"1\" class=\"dataframe\">\n",
       "  <thead>\n",
       "    <tr style=\"text-align: right;\">\n",
       "      <th></th>\n",
       "      <th>Age</th>\n",
       "      <th>Name</th>\n",
       "    </tr>\n",
       "  </thead>\n",
       "  <tbody>\n",
       "    <tr>\n",
       "      <th>0</th>\n",
       "      <td>18</td>\n",
       "      <td>Alice</td>\n",
       "    </tr>\n",
       "    <tr>\n",
       "      <th>1</th>\n",
       "      <td>22</td>\n",
       "      <td>Bob</td>\n",
       "    </tr>\n",
       "    <tr>\n",
       "      <th>2</th>\n",
       "      <td>30</td>\n",
       "      <td>Charlie</td>\n",
       "    </tr>\n",
       "    <tr>\n",
       "      <th>3</th>\n",
       "      <td>45</td>\n",
       "      <td>David</td>\n",
       "    </tr>\n",
       "  </tbody>\n",
       "</table>\n",
       "</div>"
      ],
      "text/plain": [
       "   Age     Name\n",
       "0   18    Alice\n",
       "1   22      Bob\n",
       "2   30  Charlie\n",
       "3   45    David"
      ]
     },
     "execution_count": 27,
     "metadata": {},
     "output_type": "execute_result"
    }
   ],
   "source": [
    "import pandas as pd \n",
    "\n",
    "data = {'Age': [18, 22, 30, 45], 'Name': ['Alice', 'Bob', 'Charlie', 'David']}\n",
    "\n",
    "df = pd.DataFrame.from_dict(data)\n"
   ]
  },
  {
   "cell_type": "code",
   "execution_count": 30,
   "id": "a15a5683",
   "metadata": {},
   "outputs": [],
   "source": [
    "def decide_value(row):\n",
    "    if row['Age'] <= 18:\n",
    "        val = False\n",
    "    else:\n",
    "        val = True\n",
    "    return val"
   ]
  },
  {
   "cell_type": "code",
   "execution_count": 31,
   "id": "539670c9",
   "metadata": {},
   "outputs": [
    {
     "data": {
      "text/html": [
       "<div>\n",
       "<style scoped>\n",
       "    .dataframe tbody tr th:only-of-type {\n",
       "        vertical-align: middle;\n",
       "    }\n",
       "\n",
       "    .dataframe tbody tr th {\n",
       "        vertical-align: top;\n",
       "    }\n",
       "\n",
       "    .dataframe thead th {\n",
       "        text-align: right;\n",
       "    }\n",
       "</style>\n",
       "<table border=\"1\" class=\"dataframe\">\n",
       "  <thead>\n",
       "    <tr style=\"text-align: right;\">\n",
       "      <th></th>\n",
       "      <th>Age</th>\n",
       "      <th>Name</th>\n",
       "      <th>False/True</th>\n",
       "    </tr>\n",
       "  </thead>\n",
       "  <tbody>\n",
       "    <tr>\n",
       "      <th>0</th>\n",
       "      <td>18</td>\n",
       "      <td>Alice</td>\n",
       "      <td>False</td>\n",
       "    </tr>\n",
       "    <tr>\n",
       "      <th>1</th>\n",
       "      <td>22</td>\n",
       "      <td>Bob</td>\n",
       "      <td>True</td>\n",
       "    </tr>\n",
       "    <tr>\n",
       "      <th>2</th>\n",
       "      <td>30</td>\n",
       "      <td>Charlie</td>\n",
       "      <td>True</td>\n",
       "    </tr>\n",
       "    <tr>\n",
       "      <th>3</th>\n",
       "      <td>45</td>\n",
       "      <td>David</td>\n",
       "      <td>True</td>\n",
       "    </tr>\n",
       "  </tbody>\n",
       "</table>\n",
       "</div>"
      ],
      "text/plain": [
       "   Age     Name  False/True\n",
       "0   18    Alice       False\n",
       "1   22      Bob        True\n",
       "2   30  Charlie        True\n",
       "3   45    David        True"
      ]
     },
     "execution_count": 31,
     "metadata": {},
     "output_type": "execute_result"
    }
   ],
   "source": [
    "\n",
    "df['False/True'] = df.apply(decide_value, axis = 1)\n",
    "\n",
    "df"
   ]
  },
  {
   "cell_type": "code",
   "execution_count": null,
   "id": "ec3bc668",
   "metadata": {},
   "outputs": [],
   "source": []
  }
 ],
 "metadata": {
  "kernelspec": {
   "display_name": "Python 3 (ipykernel)",
   "language": "python",
   "name": "python3"
  },
  "language_info": {
   "codemirror_mode": {
    "name": "ipython",
    "version": 3
   },
   "file_extension": ".py",
   "mimetype": "text/x-python",
   "name": "python",
   "nbconvert_exporter": "python",
   "pygments_lexer": "ipython3",
   "version": "3.9.13"
  }
 },
 "nbformat": 4,
 "nbformat_minor": 5
}
